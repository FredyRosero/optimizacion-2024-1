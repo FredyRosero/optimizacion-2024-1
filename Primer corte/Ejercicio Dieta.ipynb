{
  "nbformat": 4,
  "nbformat_minor": 0,
  "metadata": {
    "colab": {
      "provenance": []
    },
    "kernelspec": {
      "name": "python3",
      "display_name": "Python 3"
    },
    "language_info": {
      "name": "python"
    }
  },
  "cells": [
    {
      "cell_type": "code",
      "execution_count": null,
      "metadata": {
        "colab": {
          "base_uri": "https://localhost:8080/"
        },
        "id": "LiOnJ45B0-i0",
        "outputId": "355ff8a0-dcc9-47f4-c28e-13c35c9106b6"
      },
      "outputs": [
        {
          "output_type": "stream",
          "name": "stdout",
          "text": [
            "Collecting gurobipy\n",
            "  Downloading gurobipy-11.0.1-cp310-cp310-manylinux2014_x86_64.manylinux_2_17_x86_64.whl (13.4 MB)\n",
            "\u001b[2K     \u001b[90m━━━━━━━━━━━━━━━━━━━━━━━━━━━━━━━━━━━━━━━━\u001b[0m \u001b[32m13.4/13.4 MB\u001b[0m \u001b[31m42.5 MB/s\u001b[0m eta \u001b[36m0:00:00\u001b[0m\n",
            "\u001b[?25hInstalling collected packages: gurobipy\n",
            "Successfully installed gurobipy-11.0.1\n"
          ]
        }
      ],
      "source": [
        "!pip install gurobipy"
      ]
    },
    {
      "cell_type": "markdown",
      "source": [
        "***Ejemplo 6. Página 69. [WINSTON]***. My diet requires that all the food I eat come from one of the four “basic food groups” (chocolate cake, ice cream, soda, and cheesecake). At present, the following four foods are available for consumption: brownies, chocolate ice cream, cola, and pineapple cheesecake. Each brownie costs 50¢, each scoop of chocolate ice cream costs 20¢, each bottle of cola costs 30¢, and each piece of pineapple cheesecake costs 80¢. Each day, I must ingest at least 500 calories, 6 oz of chocolate, 10 oz of sugar, and 8 oz of fat. The nutritional content per unit of each food is shown in Table 2. Formulate a linear programming model that can be used to satisfy my daily nutritional requirements at minimum cost.\n",
        "\n",
        "<table>\n",
        "<tr><th>Type of Food</th><th> Calories</th><th> Chocolate (Ounces) </th><th>Sugar (Ounces) </th><th>Fat (Ounces)</th></tr>\n",
        "\n",
        "<tr><td>Brownie </td><td>400 </td><td>3 </td><td>2</td><td> 2</td></tr>\n",
        "<tr><td>Chocolate ice cream\n",
        "(1 scoop) </td><td>200</td><td> 2 </td><td>2 </td><td>4</td></tr>\n",
        "<tr><td>Cola (1 bottle) </td><td>150 </td><td>0 </td><td>4 </td><td>1</td></tr>\n",
        "<tr><td>Pineapple cheesecake (1 piece) </td><td>500</td><td> 0</td><td> 4</td><td> 5</td></tr>\n",
        "</table>"
      ],
      "metadata": {
        "id": "oHa7gHEo1XPQ"
      }
    },
    {
      "cell_type": "code",
      "source": [
        "import gurobipy as gp"
      ],
      "metadata": {
        "id": "E3a5spXO3Owr"
      },
      "execution_count": null,
      "outputs": []
    },
    {
      "cell_type": "code",
      "source": [
        "# Parámetro costo de cada producto\n",
        "producto, costo = gp.multidict({\n",
        "    'brownie':50,\n",
        "    'ice_cream':20,\n",
        "    'cola':30,\n",
        "    'cheesecake':80\n",
        "    })\n",
        "# Parámetro requerimiento de cada nutriente\n",
        "nutriente,requerimiento = gp.multidict({\n",
        "    'calories':500,\n",
        "    'chocolate':6,\n",
        "    'sugar':10,\n",
        "    'fat':8})"
      ],
      "metadata": {
        "id": "s7w3bUX21o4a"
      },
      "execution_count": null,
      "outputs": []
    },
    {
      "cell_type": "code",
      "source": [
        "# Parámetro contribución de cada producto a cada nutriente\n",
        "valores={('brownie','calories'):400,\n",
        "         ('brownie','chocolate'):3,\n",
        "         ('brownie','sugar'):2,\n",
        "         ('brownie','fat'):2,\n",
        "         ('ice_cream','calories'):200,\n",
        "         ('ice_cream','chocolate'):2,\n",
        "         ('ice_cream','sugar'):2,\n",
        "         ('ice_cream','fat'):4,\n",
        "         ('cola','calories'):150,\n",
        "         ('cola','chocolate'):0,\n",
        "         ('cola','sugar'):4,\n",
        "         ('cola','fat'):1,\n",
        "         ('cheesecake','calories'):500,\n",
        "         ('cheesecake','chocolate'):0,\n",
        "         ('cheesecake','sugar'):4,\n",
        "         ('cheesecake','fat'):5,\n",
        "         }"
      ],
      "metadata": {
        "id": "yeDN9itR3Msx"
      },
      "execution_count": null,
      "outputs": []
    },
    {
      "cell_type": "code",
      "source": [
        "m2=gp.Model('diet')"
      ],
      "metadata": {
        "colab": {
          "base_uri": "https://localhost:8080/"
        },
        "id": "JyAQY3KH3U64",
        "outputId": "09c71459-b06f-4b49-ad6a-1e1b230afcb4"
      },
      "execution_count": null,
      "outputs": [
        {
          "output_type": "stream",
          "name": "stdout",
          "text": [
            "Restricted license - for non-production use only - expires 2025-11-24\n"
          ]
        }
      ]
    },
    {
      "cell_type": "code",
      "source": [
        "# se crea una variable por cada producto, en este caso buy[producto]\n",
        "buy=m2.addVars(producto, name='buy')"
      ],
      "metadata": {
        "id": "wzhZMuWB3WyP"
      },
      "execution_count": null,
      "outputs": []
    },
    {
      "cell_type": "code",
      "source": [
        "# se define una restricción por cada requerimiento\n",
        "m2.addConstrs((gp.quicksum(valores[i,j]*buy[i] for i in producto)>=requerimiento[j] for j in nutriente),\\\n",
        "              'requerimiento')"
      ],
      "metadata": {
        "colab": {
          "base_uri": "https://localhost:8080/"
        },
        "id": "jG3PUHux3ZOQ",
        "outputId": "fcc7b619-bce1-4cba-8e1f-ddf94b7a1b8e"
      },
      "execution_count": null,
      "outputs": [
        {
          "output_type": "execute_result",
          "data": {
            "text/plain": [
              "{'calories': <gurobi.Constr *Awaiting Model Update*>,\n",
              " 'chocolate': <gurobi.Constr *Awaiting Model Update*>,\n",
              " 'sugar': <gurobi.Constr *Awaiting Model Update*>,\n",
              " 'fat': <gurobi.Constr *Awaiting Model Update*>}"
            ]
          },
          "metadata": {},
          "execution_count": 7
        }
      ]
    },
    {
      "cell_type": "code",
      "source": [
        "m2.setObjective((gp.quicksum(costo[i]*buy[i] for i in producto)),gp.GRB.MINIMIZE)"
      ],
      "metadata": {
        "id": "ykHKVef43a8I"
      },
      "execution_count": null,
      "outputs": []
    },
    {
      "cell_type": "code",
      "source": [
        "m2.update()"
      ],
      "metadata": {
        "id": "J4an5f2Z3yP3"
      },
      "execution_count": null,
      "outputs": []
    },
    {
      "cell_type": "code",
      "source": [
        "# Se muestra el modelo\n",
        "m2.display()"
      ],
      "metadata": {
        "colab": {
          "base_uri": "https://localhost:8080/"
        },
        "id": "2xwQkjuU3zfd",
        "outputId": "d1729c31-6f14-49b2-e1a8-a1041a7abcf3"
      },
      "execution_count": null,
      "outputs": [
        {
          "output_type": "stream",
          "name": "stdout",
          "text": [
            "Minimize\n",
            "  50.0 buy[brownie] + 20.0 buy[ice_cream] + 30.0 buy[cola] + 80.0 buy[cheesecake]\n",
            "Subject To\n",
            "requerimiento[calories]: 400.0 buy[brownie] + 200.0 buy[ice_cream] + 150.0 buy[cola] +\n",
            " 500.0 buy[cheesecake] >= 500\n",
            "  requerimiento[chocolate]: 3.0 buy[brownie] + 2.0 buy[ice_cream] >= 6\n",
            "requerimiento[sugar]: 2.0 buy[brownie] + 2.0 buy[ice_cream] + 4.0 buy[cola] + 4.0\n",
            " buy[cheesecake] >= 10\n",
            "requerimiento[fat]: 2.0 buy[brownie] + 4.0 buy[ice_cream] + buy[cola] + 5.0\n",
            " buy[cheesecake] >= 8\n"
          ]
        },
        {
          "output_type": "stream",
          "name": "stderr",
          "text": [
            "<ipython-input-10-0a9fe53e85ce>:2: DeprecationWarning: Model.display() is deprecated\n",
            "  m2.display()\n"
          ]
        }
      ]
    },
    {
      "cell_type": "code",
      "source": [
        "m2.optimize()"
      ],
      "metadata": {
        "colab": {
          "base_uri": "https://localhost:8080/"
        },
        "id": "27Hc2qL530tv",
        "outputId": "085c9623-7901-4637-8fe3-7378df8a26e2"
      },
      "execution_count": null,
      "outputs": [
        {
          "output_type": "stream",
          "name": "stdout",
          "text": [
            "Gurobi Optimizer version 11.0.0 build v11.0.0rc2 (linux64 - \"Ubuntu 22.04.3 LTS\")\n",
            "\n",
            "CPU model: AMD EPYC 7B12, instruction set [SSE2|AVX|AVX2]\n",
            "Thread count: 1 physical cores, 2 logical processors, using up to 2 threads\n",
            "\n",
            "Optimize a model with 4 rows, 4 columns and 14 nonzeros\n",
            "Model fingerprint: 0x1ad249d8\n",
            "Coefficient statistics:\n",
            "  Matrix range     [1e+00, 5e+02]\n",
            "  Objective range  [2e+01, 8e+01]\n",
            "  Bounds range     [0e+00, 0e+00]\n",
            "  RHS range        [6e+00, 5e+02]\n",
            "Presolve time: 0.00s\n",
            "Presolved: 4 rows, 4 columns, 14 nonzeros\n",
            "\n",
            "Iteration    Objective       Primal Inf.    Dual Inf.      Time\n",
            "       0    0.0000000e+00   1.512500e+02   0.000000e+00      0s\n",
            "       2    9.0000000e+01   0.000000e+00   0.000000e+00      0s\n",
            "\n",
            "Solved in 2 iterations and 0.01 seconds (0.00 work units)\n",
            "Optimal objective  9.000000000e+01\n"
          ]
        }
      ]
    },
    {
      "cell_type": "code",
      "source": [
        "for i in producto:\n",
        "  print('Debe comprarse',buy[i].X,'unidades correspondientes del producto',i)"
      ],
      "metadata": {
        "colab": {
          "base_uri": "https://localhost:8080/"
        },
        "id": "oFWc25yB37p4",
        "outputId": "631a05f8-ea10-4147-826f-d6c1a0c84fb8"
      },
      "execution_count": null,
      "outputs": [
        {
          "output_type": "stream",
          "name": "stdout",
          "text": [
            "Debe comprarse 0.0 unidades correspondientes del producto brownie\n",
            "Debe comprarse 3.0 unidades correspondientes del producto ice_cream\n",
            "Debe comprarse 1.0 unidades correspondientes del producto cola\n",
            "Debe comprarse 0.0 unidades correspondientes del producto cheesecake\n"
          ]
        }
      ]
    },
    {
      "cell_type": "code",
      "source": [
        "print('Costo total',m2.ObjVal)"
      ],
      "metadata": {
        "colab": {
          "base_uri": "https://localhost:8080/"
        },
        "id": "2qHJF3OJ4Bc3",
        "outputId": "3ef08654-2ceb-4ffd-fb15-b8422534e377"
      },
      "execution_count": null,
      "outputs": [
        {
          "output_type": "stream",
          "name": "stdout",
          "text": [
            "Costo total 90.0\n"
          ]
        }
      ]
    },
    {
      "cell_type": "code",
      "source": [],
      "metadata": {
        "id": "g9YeTZIO4U_X"
      },
      "execution_count": null,
      "outputs": []
    }
  ]
}