{
 "cells": [
  {
   "cell_type": "markdown",
   "metadata": {},
   "source": [
    "# Taller 3\n",
    "\n",
    "## Miembros\n",
    "\n",
    "XXX = 270, YYY = 114\n",
    "\n",
    "## (1) Primer punto\n",
    "Resolver la parte (b) del ejercicio 17 (review) del capítulo 7 del libro guía considerando el costo de enviar un carro igual a la distancia multiplicada por 1XXX. Plantearlo como un problema de minimización de costos en una red capacitada (se debe presentar el grafo y el modelo matemático), resolverlo. Además debe encontrarse una solución inicial a través de resolver un problema de flujo máximo costo mínimo usando OR Tools de Google, deben presentar esta solución inicial a través de un grafo. 50 puntos."
   ]
  },
  {
   "cell_type": "markdown",
   "metadata": {},
   "source": [
    "### Ejercicio 17\n",
    "\n",
    "Una compañía produce autos en Atlanta, Boston, Chicago y Los Ángeles. Los autos son enviados a almacenes en Memphis, Milwaukee, Nueva York, Denver y San Francisco. La cantidad de autos disponibles en cada planta se presenta en la Tabla 75.\n",
    "\n",
    "Cada almacén necesita tener disponible la cantidad de autos indicada en la Tabla 76.\n",
    "\n",
    "La distancia (en millas) entre las ciudades se presenta en la Tabla 77.\n",
    "\n",
    "a. Suponiendo que el costo (en dólares) de enviar un auto es igual a la distancia entre dos ciudades, determina un plan óptimo de envío.\n",
    "\n",
    "b. Suponiendo que el costo (en dólares) de enviar un auto es igual a la raíz cuadrada de la distancia entre dos ciudades, determina un plan óptimo de envío.\n",
    "\n",
    "### Tabla 75\n",
    "| Planta     | Autos Disponibles |\n",
    "|------------|-------------------|\n",
    "| Atlanta    | 5,000             |\n",
    "| Boston     | 6,000             |\n",
    "| Chicago    | 4,000             |\n",
    "| Los Ángeles| 3,000             |\n",
    "\n",
    "### Tabla 76\n",
    "| Almacén        | Autos Requeridos |\n",
    "|----------------|------------------|\n",
    "| Memphis        | 6,000            |\n",
    "| Milwaukee      | 4,000            |\n",
    "| Nueva York     | 4,000            |\n",
    "| Denver         | 2,000            |\n",
    "| San Francisco  | 2,000            |\n",
    "\n",
    "### Tabla 77\n",
    "|                | Memphis | Milwaukee | Nueva York | Denver | San Francisco |\n",
    "|----------------|---------|-----------|------------|--------|---------------|\n",
    "| Atlanta        | 371     | 761       | 841        | 1,398  | 2,496         |\n",
    "| Boston         | 1,296   | 1,050     | 206        | 1,949  | 3,095         |\n",
    "| Chicago        | 530     | 87        | 802        | 996    | 2,142         |\n",
    "| Los Ángeles    | 1,817   | 2,012     | 2,786      | 1,059  | 379           |\n",
    "\n",
    "---\n",
    "\n",
    "Si necesitas alguna otra información o una adaptación adicional, no dudes en pedirla."
   ]
  },
  {
   "cell_type": "code",
   "execution_count": null,
   "metadata": {},
   "outputs": [],
   "source": []
  }
 ],
 "metadata": {
  "language_info": {
   "name": "python"
  }
 },
 "nbformat": 4,
 "nbformat_minor": 2
}
